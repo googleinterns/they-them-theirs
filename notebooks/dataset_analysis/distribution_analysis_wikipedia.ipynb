{
 "cells": [
  {
   "cell_type": "code",
   "execution_count": 20,
   "metadata": {},
   "outputs": [],
   "source": [
    "from collections import Counter, defaultdict\n",
    "import re\n",
    "import spacy\n",
    "import matplotlib.pyplot as plt"
   ]
  },
  {
   "cell_type": "code",
   "execution_count": 2,
   "metadata": {},
   "outputs": [],
   "source": [
    "nlp = spacy.load(\"en_core_web_sm\")"
   ]
  },
  {
   "cell_type": "code",
   "execution_count": 69,
   "metadata": {},
   "outputs": [],
   "source": [
    "MALE_PRONOUNS = ['he', 'him', 'his', 'himself']\n",
    "FEMALE_PRONOUNS = ['she', 'her', 'hers', 'herself']\n",
    "\n",
    "def is_gendered(sentence):\n",
    "    sentence = sentence.lower()\n",
    "    contains_male = any(re.search(r'\\b{}\\b'.format(m_pronoun), sentence) for m_pronoun in MALE_PRONOUNS)\n",
    "    contains_female = any(re.search(r'\\b{}\\b'.format(f_pronoun), sentence) for f_pronoun in FEMALE_PRONOUNS)\n",
    "    if contains_male and not contains_female:\n",
    "        return \"male\"\n",
    "    elif contains_female and not contains_male:\n",
    "        return \"female\"\n",
    "    return False"
   ]
  },
  {
   "cell_type": "code",
   "execution_count": null,
   "metadata": {},
   "outputs": [],
   "source": []
  },
  {
   "cell_type": "code",
   "execution_count": 21,
   "metadata": {},
   "outputs": [],
   "source": [
    "def get_source_target():\n",
    "    with open(f'/home/jupyter/wikipedia_training/original/wikipedia_gendered.source', 'r') as f:\n",
    "        source = f.readlines()\n",
    "    \n",
    "    with open(f'/home/jupyter/wikipedia_training/original/wikipedia_gendered.target', 'r') as f:\n",
    "        target = f.readlines()\n",
    "        \n",
    "    return source, target"
   ]
  },
  {
   "cell_type": "code",
   "execution_count": 22,
   "metadata": {},
   "outputs": [],
   "source": [
    "source, target = get_source_target()"
   ]
  },
  {
   "cell_type": "code",
   "execution_count": 23,
   "metadata": {},
   "outputs": [
    {
     "data": {
      "text/plain": [
       "(15000000, 15000000)"
      ]
     },
     "execution_count": 23,
     "metadata": {},
     "output_type": "execute_result"
    }
   ],
   "source": [
    "len(source), len(target)"
   ]
  },
  {
   "cell_type": "code",
   "execution_count": 76,
   "metadata": {},
   "outputs": [
    {
     "data": {
      "text/plain": [
       "'In 1961, his single \"Water Boy\" reached No.\\xa040 on the Billboard Hot\\xa0100 and stayed on the chart for 14\\xa0weeks.\\n'"
      ]
     },
     "execution_count": 76,
     "metadata": {},
     "output_type": "execute_result"
    }
   ],
   "source": [
    "source[0]"
   ]
  },
  {
   "cell_type": "code",
   "execution_count": 77,
   "metadata": {},
   "outputs": [
    {
     "data": {
      "text/plain": [
       "'In 1961, theirs single \"Water Boy\" reached No.\\xa040 on the Billboard Hot\\xa0100 and stayed on the chart for 14\\xa0weeks.\\n'"
      ]
     },
     "execution_count": 77,
     "metadata": {},
     "output_type": "execute_result"
    }
   ],
   "source": [
    "target[0]"
   ]
  },
  {
   "cell_type": "code",
   "execution_count": null,
   "metadata": {},
   "outputs": [],
   "source": []
  },
  {
   "cell_type": "code",
   "execution_count": 70,
   "metadata": {},
   "outputs": [
    {
     "name": "stdout",
     "output_type": "stream",
     "text": [
      "CPU times: user 5min 39s, sys: 12 ms, total: 5min 39s\n",
      "Wall time: 5min 39s\n"
     ]
    }
   ],
   "source": [
    "%%time\n",
    "male_count, female_count = 0, 0\n",
    "\n",
    "for sent in source:\n",
    "    gender = is_gendered(sent)\n",
    "    if gender == 'male':\n",
    "        male_count += 1\n",
    "    if gender == 'female':\n",
    "        female_count += 1"
   ]
  },
  {
   "cell_type": "code",
   "execution_count": 74,
   "metadata": {},
   "outputs": [
    {
     "data": {
      "text/plain": [
       "(11809891, 0.787)"
      ]
     },
     "execution_count": 74,
     "metadata": {},
     "output_type": "execute_result"
    }
   ],
   "source": [
    "male_count, round(male_count / len(source), 3)"
   ]
  },
  {
   "cell_type": "code",
   "execution_count": 73,
   "metadata": {},
   "outputs": [
    {
     "data": {
      "text/plain": [
       "(3190109, 0.213)"
      ]
     },
     "execution_count": 73,
     "metadata": {},
     "output_type": "execute_result"
    }
   ],
   "source": [
    "female_count, round(female_count / len(source), 3)"
   ]
  },
  {
   "cell_type": "code",
   "execution_count": 75,
   "metadata": {},
   "outputs": [
    {
     "data": {
      "text/plain": [
       "15000000"
      ]
     },
     "execution_count": 75,
     "metadata": {},
     "output_type": "execute_result"
    }
   ],
   "source": [
    "male_count + female_count"
   ]
  },
  {
   "cell_type": "code",
   "execution_count": null,
   "metadata": {},
   "outputs": [],
   "source": []
  },
  {
   "cell_type": "code",
   "execution_count": 29,
   "metadata": {},
   "outputs": [],
   "source": [
    "token_counter = Counter()\n",
    "total_tokens = 0\n",
    "\n",
    "for sent in source[:]:\n",
    "    tokens = sent.lower().split(' ')\n",
    "    total_tokens += len(tokens)\n",
    "    \n",
    "    for token in tokens:\n",
    "        token_counter[token] += 1"
   ]
  },
  {
   "cell_type": "code",
   "execution_count": 30,
   "metadata": {},
   "outputs": [
    {
     "data": {
      "text/plain": [
       "5014477"
      ]
     },
     "execution_count": 30,
     "metadata": {},
     "output_type": "execute_result"
    }
   ],
   "source": [
    "# num of unique tokens\n",
    "len(token_counter)"
   ]
  },
  {
   "cell_type": "code",
   "execution_count": 33,
   "metadata": {},
   "outputs": [
    {
     "name": "stdout",
     "output_type": "stream",
     "text": [
      "328447567\n",
      "21.896504466666666\n"
     ]
    }
   ],
   "source": [
    "print(total_tokens)\n",
    "print(total_tokens / len(source))"
   ]
  },
  {
   "cell_type": "code",
   "execution_count": 35,
   "metadata": {},
   "outputs": [
    {
     "data": {
      "text/plain": [
       "[('the', 19414745),\n",
       " ('in', 11178846),\n",
       " ('of', 10260171),\n",
       " ('and', 9573120),\n",
       " ('he', 8482237),\n",
       " ('to', 7635958),\n",
       " ('a', 6938637),\n",
       " ('his', 6855281),\n",
       " ('was', 5143989),\n",
       " ('for', 3354429),\n",
       " ('as', 2989335),\n",
       " ('on', 2973571),\n",
       " ('with', 2697284),\n",
       " ('at', 2545867),\n",
       " ('she', 2266450),\n",
       " ('her', 2145373),\n",
       " ('that', 2033960),\n",
       " ('by', 1926537),\n",
       " ('from', 1810721),\n",
       " ('is', 1810617)]"
      ]
     },
     "execution_count": 35,
     "metadata": {},
     "output_type": "execute_result"
    }
   ],
   "source": [
    "token_counter.most_common(20)"
   ]
  },
  {
   "cell_type": "code",
   "execution_count": null,
   "metadata": {},
   "outputs": [],
   "source": []
  },
  {
   "cell_type": "code",
   "execution_count": null,
   "metadata": {},
   "outputs": [],
   "source": []
  },
  {
   "cell_type": "code",
   "execution_count": 36,
   "metadata": {},
   "outputs": [],
   "source": [
    "def clean_str(word):\n",
    "    pattern = re.compile(\"[^a-zA-Z']+\", re.UNICODE)\n",
    "    word = pattern.sub('', word)\n",
    "    return word.lower()"
   ]
  },
  {
   "cell_type": "code",
   "execution_count": null,
   "metadata": {},
   "outputs": [],
   "source": []
  },
  {
   "cell_type": "code",
   "execution_count": 37,
   "metadata": {},
   "outputs": [
    {
     "name": "stdout",
     "output_type": "stream",
     "text": [
      "CPU times: user 3min 25s, sys: 92 ms, total: 3min 25s\n",
      "Wall time: 3min 25s\n"
     ]
    }
   ],
   "source": [
    "%%time\n",
    "change_type = Counter()\n",
    "total_changes = 0\n",
    "\n",
    "for source_sent, target_sent in zip(source, target):\n",
    "    source_sent = source_sent.split(' ')\n",
    "    target_sent = target_sent.split(' ')\n",
    "    \n",
    "    if len(source_sent) != len(target_sent):\n",
    "        continue\n",
    "        \n",
    "    for i in range(len(source_sent)):\n",
    "        if source_sent[i] != target_sent[i]:\n",
    "            source_word = clean_str(source_sent[i])\n",
    "            target_word = clean_str(target_sent[i])\n",
    "\n",
    "            change_type[(source_word, target_word)] += 1\n",
    "            \n",
    "            total_changes += 1"
   ]
  },
  {
   "cell_type": "code",
   "execution_count": 38,
   "metadata": {},
   "outputs": [
    {
     "data": {
      "text/plain": [
       "26181989"
      ]
     },
     "execution_count": 38,
     "metadata": {},
     "output_type": "execute_result"
    }
   ],
   "source": [
    "total_changes"
   ]
  },
  {
   "cell_type": "code",
   "execution_count": 39,
   "metadata": {},
   "outputs": [
    {
     "name": "stdout",
     "output_type": "stream",
     "text": [
      "20241\n"
     ]
    },
    {
     "data": {
      "text/plain": [
       "[(('he', 'they'), 8521905),\n",
       " (('his', 'their'), 6516893),\n",
       " (('was', 'were'), 2643267),\n",
       " (('she', 'they'), 2280794),\n",
       " (('her', 'their'), 1883143),\n",
       " (('him', 'them'), 1087349),\n",
       " (('is', 'are'), 724416),\n",
       " (('has', 'have'), 412245),\n",
       " (('his', 'theirs'), 358933),\n",
       " (('her', 'them'), 298315),\n",
       " (('himself', 'themself'), 276726),\n",
       " (('herself', 'themself'), 63996),\n",
       " (('chairman', 'chair'), 60067),\n",
       " (('does', 'do'), 26893),\n",
       " ((\"he's\", \"they're\"), 25959),\n",
       " (('plays', 'play'), 16913),\n",
       " (('finds', 'find'), 15132),\n",
       " (('holds', 'hold'), 14773),\n",
       " ((\"she's\", \"they're\"), 14664),\n",
       " (('works', 'work'), 14054)]"
      ]
     },
     "execution_count": 39,
     "metadata": {},
     "output_type": "execute_result"
    }
   ],
   "source": [
    "print(len(change_type))\n",
    "change_type.most_common(20)"
   ]
  },
  {
   "cell_type": "code",
   "execution_count": null,
   "metadata": {},
   "outputs": [],
   "source": []
  },
  {
   "cell_type": "code",
   "execution_count": 48,
   "metadata": {},
   "outputs": [],
   "source": [
    "change_type_percent = Counter()\n",
    "for change in change_type:\n",
    "    change_type_percent[change] = '{:.3f}'.format(change_type[change] / total_changes)"
   ]
  },
  {
   "cell_type": "code",
   "execution_count": 49,
   "metadata": {},
   "outputs": [
    {
     "data": {
      "text/plain": [
       "[(('he', 'they'), '0.325'),\n",
       " (('his', 'their'), '0.249'),\n",
       " (('was', 'were'), '0.101'),\n",
       " (('she', 'they'), '0.087'),\n",
       " (('her', 'their'), '0.072'),\n",
       " (('him', 'them'), '0.042'),\n",
       " (('is', 'are'), '0.028'),\n",
       " (('has', 'have'), '0.016'),\n",
       " (('his', 'theirs'), '0.014'),\n",
       " (('her', 'them'), '0.011'),\n",
       " (('himself', 'themself'), '0.011'),\n",
       " (('chairman', 'chair'), '0.002'),\n",
       " (('herself', 'themself'), '0.002'),\n",
       " (('plays', 'play'), '0.001'),\n",
       " ((\"he's\", \"they're\"), '0.001'),\n",
       " (('holds', 'hold'), '0.001'),\n",
       " (('does', 'do'), '0.001'),\n",
       " (('lives', 'live'), '0.001'),\n",
       " (('finds', 'find'), '0.001'),\n",
       " (('works', 'work'), '0.001')]"
      ]
     },
     "execution_count": 49,
     "metadata": {},
     "output_type": "execute_result"
    }
   ],
   "source": [
    "change_type_percent.most_common(20)"
   ]
  },
  {
   "cell_type": "code",
   "execution_count": null,
   "metadata": {},
   "outputs": [],
   "source": []
  },
  {
   "cell_type": "code",
   "execution_count": null,
   "metadata": {},
   "outputs": [],
   "source": []
  },
  {
   "cell_type": "code",
   "execution_count": 50,
   "metadata": {},
   "outputs": [],
   "source": [
    "def my_autopct(pct):\n",
    "    return ('%.2f%%' % pct) if pct > 5 else ''"
   ]
  },
  {
   "cell_type": "code",
   "execution_count": 58,
   "metadata": {},
   "outputs": [],
   "source": [
    "labels = [change[0] for change in change_type.most_common(1000)]\n",
    "sizes = [change[1] for change in change_type.most_common(1000)]"
   ]
  },
  {
   "cell_type": "code",
   "execution_count": 59,
   "metadata": {},
   "outputs": [
    {
     "data": {
      "image/png": "[encoded data removed]",
      "text/plain": [
       "<Figure size 432x288 with 1 Axes>"
      ]
     },
     "metadata": {},
     "output_type": "display_data"
    }
   ],
   "source": [
    "plt.pie(sizes, labels=labels,\n",
    "autopct=my_autopct, shadow=True, startangle=140)\n",
    "\n",
    "plt.axis('equal')\n",
    "plt.show()"
   ]
  },
  {
   "cell_type": "code",
   "execution_count": null,
   "metadata": {},
   "outputs": [],
   "source": []
  },
  {
   "cell_type": "code",
   "execution_count": 60,
   "metadata": {},
   "outputs": [
    {
     "data": {
      "text/plain": [
       "[(('he', 'they'), '0.325'),\n",
       " (('his', 'their'), '0.249'),\n",
       " (('was', 'were'), '0.101'),\n",
       " (('she', 'they'), '0.087'),\n",
       " (('her', 'their'), '0.072'),\n",
       " (('him', 'them'), '0.042'),\n",
       " (('is', 'are'), '0.028'),\n",
       " (('has', 'have'), '0.016'),\n",
       " (('his', 'theirs'), '0.014'),\n",
       " (('her', 'them'), '0.011'),\n",
       " (('himself', 'themself'), '0.011'),\n",
       " (('chairman', 'chair'), '0.002'),\n",
       " (('herself', 'themself'), '0.002'),\n",
       " (('plays', 'play'), '0.001'),\n",
       " ((\"he's\", \"they're\"), '0.001'),\n",
       " (('holds', 'hold'), '0.001'),\n",
       " (('does', 'do'), '0.001'),\n",
       " (('lives', 'live'), '0.001'),\n",
       " (('finds', 'find'), '0.001'),\n",
       " (('works', 'work'), '0.001')]"
      ]
     },
     "execution_count": 60,
     "metadata": {},
     "output_type": "execute_result"
    }
   ],
   "source": [
    "change_type_percent.most_common(20)"
   ]
  },
  {
   "cell_type": "code",
   "execution_count": 64,
   "metadata": {},
   "outputs": [
    {
     "data": {
      "text/plain": [
       "0.641"
      ]
     },
     "execution_count": 64,
     "metadata": {},
     "output_type": "execute_result"
    }
   ],
   "source": [
    "# male\n",
    "male_pairs = [('he', 'they'), ('his', 'their'), ('him', 'them'), ('his', 'theirs'), ('himself', 'themself'), (\"he's\", \"they're\")]\n",
    "male_percent = 0\n",
    "\n",
    "for pair in male_pairs:\n",
    "    if pair in change_type_percent:\n",
    "        male_percent += float(change_type_percent[pair])\n",
    "\n",
    "round(male_percent, 3)"
   ]
  },
  {
   "cell_type": "code",
   "execution_count": 65,
   "metadata": {},
   "outputs": [
    {
     "data": {
      "text/plain": [
       "0.173"
      ]
     },
     "execution_count": 65,
     "metadata": {},
     "output_type": "execute_result"
    }
   ],
   "source": [
    "# female\n",
    "female_pairs = [('she', 'they'), ('her', 'their'), ('her', 'them'), ('hers', 'theirs'), ('herself', 'themself'), (\"she's\", \"they're\")]\n",
    "female_percent = 0\n",
    "\n",
    "for pair in female_pairs:\n",
    "    if pair in change_type_percent:\n",
    "        female_percent += float(change_type_percent[pair])\n",
    "\n",
    "round(female_percent, 3)"
   ]
  },
  {
   "cell_type": "code",
   "execution_count": 67,
   "metadata": {},
   "outputs": [
    {
     "data": {
      "text/plain": [
       "0.19"
      ]
     },
     "execution_count": 67,
     "metadata": {},
     "output_type": "execute_result"
    }
   ],
   "source": [
    "other = round(1 - male_percent - female_percent, 2)\n",
    "other"
   ]
  },
  {
   "cell_type": "code",
   "execution_count": null,
   "metadata": {},
   "outputs": [],
   "source": []
  }
 ],
 "metadata": {
  "environment": {
   "name": "tf2-2-2-gpu.2-2.m49",
   "type": "gcloud",
   "uri": "gcr.io/deeplearning-platform-release/tf2-2-2-gpu.2-2:m49"
  },
  "kernelspec": {
   "display_name": "Python 3",
   "language": "python",
   "name": "python3"
  },
  "language_info": {
   "codemirror_mode": {
    "name": "ipython",
    "version": 3
   },
   "file_extension": ".py",
   "mimetype": "text/x-python",
   "name": "python",
   "nbconvert_exporter": "python",
   "pygments_lexer": "ipython3",
   "version": "3.7.7"
  }
 },
 "nbformat": 4,
 "nbformat_minor": 4
}
