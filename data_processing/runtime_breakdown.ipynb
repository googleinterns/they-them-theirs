{
 "cells": [
  {
   "cell_type": "code",
   "execution_count": 1,
   "metadata": {},
   "outputs": [],
   "source": [
    "import cProfile\n",
    "import pstats"
   ]
  },
  {
   "cell_type": "code",
   "execution_count": 2,
   "metadata": {},
   "outputs": [],
   "source": [
    "import sys\n",
    "sys.path.append('../neutral_generation')"
   ]
  },
  {
   "cell_type": "code",
   "execution_count": 16,
   "metadata": {},
   "outputs": [],
   "source": [
    "from smart_convert import convert\n",
    "from smart_convert import score\n",
    "from smart_convert import smart_pronoun_replace"
   ]
  },
  {
   "cell_type": "code",
   "execution_count": 13,
   "metadata": {},
   "outputs": [],
   "source": [
    "sentence = \"He's going to the mall\""
   ]
  },
  {
   "cell_type": "code",
   "execution_count": 24,
   "metadata": {},
   "outputs": [
    {
     "name": "stdout",
     "output_type": "stream",
     "text": [
      "Mon Aug 10 04:42:21 2020    restats\n",
      "\n",
      "         10475 function calls (10055 primitive calls) in 8.096 seconds\n",
      "\n",
      "   Ordered by: cumulative time\n",
      "   List reduced from 298 to 30 due to restriction <30>\n",
      "\n",
      "   ncalls  tottime  percall  cumtime  percall filename:lineno(function)\n",
      "        1    0.000    0.000    8.096    8.096 {built-in method builtins.exec}\n",
      "        1    0.000    0.000    8.096    8.096 <string>:1(<module>)\n",
      "        1    0.000    0.000    8.096    8.096 ../neutral_generation/smart_convert.py:25(convert)\n",
      "        3    0.002    0.001    8.085    2.695 ../neutral_generation/smart_convert.py:54(smart_pronoun_replace)\n",
      "        2    0.000    0.000    8.082    4.041 ../neutral_generation/smart_convert.py:94(score)\n",
      "    326/2    0.003    0.000    8.081    4.041 /opt/conda/lib/python3.7/site-packages/torch/nn/modules/module.py:540(__call__)\n",
      "        2    0.000    0.000    8.081    4.041 /opt/conda/lib/python3.7/site-packages/pytorch_pretrained_bert/modeling_openai.py:717(forward)\n",
      "        2    0.000    0.000    7.997    3.999 /opt/conda/lib/python3.7/site-packages/pytorch_pretrained_bert/modeling_openai.py:619(forward)\n",
      "       24    0.002    0.000    7.996    0.333 /opt/conda/lib/python3.7/site-packages/pytorch_pretrained_bert/modeling_openai.py:333(forward)\n",
      "       96    0.002    0.000    4.341    0.045 /opt/conda/lib/python3.7/site-packages/pytorch_pretrained_bert/modeling_openai.py:245(forward)\n",
      "       96    4.336    0.045    4.336    0.045 {built-in method addmm}\n",
      "       24    0.001    0.000    3.149    0.131 /opt/conda/lib/python3.7/site-packages/pytorch_pretrained_bert/modeling_openai.py:318(forward)\n",
      "       24    0.001    0.000    3.123    0.130 /opt/conda/lib/python3.7/site-packages/pytorch_pretrained_bert/modeling_openai.py:296(forward)\n",
      "       48    0.000    0.000    1.721    0.036 /opt/conda/lib/python3.7/site-packages/apex/normalization/fused_layer_norm.py:153(forward)\n",
      "       48    0.000    0.000    1.720    0.036 /opt/conda/lib/python3.7/site-packages/torch/nn/functional.py:1949(layer_norm)\n",
      "       48    1.720    0.036    1.720    0.036 {built-in method layer_norm}\n",
      "       24    0.004    0.000    1.564    0.065 /opt/conda/lib/python3.7/site-packages/pytorch_pretrained_bert/modeling_openai.py:270(_attn)\n",
      "       48    1.555    0.032    1.555    0.032 {built-in method matmul}\n",
      "       24    0.006    0.000    0.357    0.015 /opt/conda/lib/python3.7/site-packages/pytorch_pretrained_bert/modeling_openai.py:116(gelu)\n",
      "       24    0.351    0.015    0.351    0.015 {built-in method tanh}\n",
      "        2    0.000    0.000    0.081    0.041 /opt/conda/lib/python3.7/site-packages/pytorch_pretrained_bert/modeling_openai.py:354(forward)\n",
      "        2    0.000    0.000    0.081    0.041 /opt/conda/lib/python3.7/site-packages/torch/nn/modules/linear.py:86(forward)\n",
      "        2    0.000    0.000    0.081    0.041 /opt/conda/lib/python3.7/site-packages/torch/nn/functional.py:1591(linear)\n",
      "        2    0.081    0.040    0.081    0.040 {method 'matmul' of 'torch._C._TensorBase' objects}\n",
      "        1    0.000    0.000    0.011    0.011 /opt/conda/lib/python3.7/site-packages/spacy/language.py:424(__call__)\n",
      "     25/4    0.000    0.000    0.010    0.003 /opt/conda/lib/python3.7/site-packages/thinc/neural/_classes/model.py:161(__call__)\n",
      "        4    0.000    0.000    0.008    0.002 /opt/conda/lib/python3.7/site-packages/thinc/neural/_classes/model.py:130(predict)\n",
      "     15/3    0.000    0.000    0.007    0.002 /opt/conda/lib/python3.7/site-packages/thinc/neural/_classes/feed_forward.py:43(begin_update)\n",
      "        2    0.000    0.000    0.006    0.003 /opt/conda/lib/python3.7/site-packages/thinc/api.py:293(begin_update)\n",
      "       11    0.000    0.000    0.005    0.000 /opt/conda/lib/python3.7/site-packages/thinc/neural/_classes/layernorm.py:60(begin_update)\n",
      "\n",
      "\n"
     ]
    },
    {
     "data": {
      "text/plain": [
       "<pstats.Stats at 0x7f02e95be850>"
      ]
     },
     "execution_count": 24,
     "metadata": {},
     "output_type": "execute_result"
    }
   ],
   "source": [
    "cProfile.run('convert(sentence)', 'restats')\n",
    "p = pstats.Stats('restats')\n",
    "p.sort_stats('cumulative').print_stats(30)"
   ]
  },
  {
   "cell_type": "code",
   "execution_count": 25,
   "metadata": {},
   "outputs": [
    {
     "name": "stdout",
     "output_type": "stream",
     "text": [
      "Mon Aug 10 04:42:21 2020    restats\n",
      "\n",
      "         10475 function calls (10055 primitive calls) in 8.096 seconds\n",
      "\n",
      "   Ordered by: internal time\n",
      "   List reduced from 298 to 10 due to restriction <10>\n",
      "\n",
      "   ncalls  tottime  percall  cumtime  percall filename:lineno(function)\n",
      "       96    4.336    0.045    4.336    0.045 {built-in method addmm}\n",
      "       48    1.720    0.036    1.720    0.036 {built-in method layer_norm}\n",
      "       48    1.555    0.032    1.555    0.032 {built-in method matmul}\n",
      "       24    0.351    0.015    0.351    0.015 {built-in method tanh}\n",
      "        2    0.081    0.040    0.081    0.040 {method 'matmul' of 'torch._C._TensorBase' objects}\n",
      "       24    0.006    0.000    0.357    0.015 /opt/conda/lib/python3.7/site-packages/pytorch_pretrained_bert/modeling_openai.py:116(gelu)\n",
      "       24    0.004    0.000    1.564    0.065 /opt/conda/lib/python3.7/site-packages/pytorch_pretrained_bert/modeling_openai.py:270(_attn)\n",
      "    326/2    0.003    0.000    8.081    4.041 /opt/conda/lib/python3.7/site-packages/torch/nn/modules/module.py:540(__call__)\n",
      "       18    0.003    0.000    0.004    0.000 ops.pyx:512(gemm)\n",
      "      298    0.003    0.000    0.003    0.000 {method 'view' of 'torch._C._TensorBase' objects}\n",
      "\n",
      "\n"
     ]
    },
    {
     "data": {
      "text/plain": [
       "<pstats.Stats at 0x7f02e95be850>"
      ]
     },
     "execution_count": 25,
     "metadata": {},
     "output_type": "execute_result"
    }
   ],
   "source": [
    "# the 10 operations that take the most time\n",
    "p.sort_stats('time').print_stats(10)"
   ]
  },
  {
   "cell_type": "code",
   "execution_count": 19,
   "metadata": {},
   "outputs": [],
   "source": [
    "token = \"he's\"\n",
    "choices = [\"they've\", \"they're\"]"
   ]
  },
  {
   "cell_type": "code",
   "execution_count": 21,
   "metadata": {},
   "outputs": [
    {
     "name": "stdout",
     "output_type": "stream",
     "text": [
      "Mon Aug 10 04:38:22 2020    restats\n",
      "\n",
      "         7467 function calls (7143 primitive calls) in 11.262 seconds\n",
      "\n",
      "   Ordered by: cumulative time\n",
      "   List reduced from 122 to 30 due to restriction <30>\n",
      "\n",
      "   ncalls  tottime  percall  cumtime  percall filename:lineno(function)\n",
      "        1    0.000    0.000   11.262   11.262 {built-in method builtins.exec}\n",
      "        1    0.000    0.000   11.261   11.261 <string>:1(<module>)\n",
      "        1    0.002    0.002   11.261   11.261 ../neutral_generation/smart_convert.py:54(smart_pronoun_replace)\n",
      "        2    0.000    0.000   11.259    5.630 ../neutral_generation/smart_convert.py:94(score)\n",
      "    326/2    0.003    0.000   11.258    5.629 /opt/conda/lib/python3.7/site-packages/torch/nn/modules/module.py:540(__call__)\n",
      "        2    0.000    0.000   11.258    5.629 /opt/conda/lib/python3.7/site-packages/pytorch_pretrained_bert/modeling_openai.py:717(forward)\n",
      "        2    0.000    0.000   11.131    5.565 /opt/conda/lib/python3.7/site-packages/pytorch_pretrained_bert/modeling_openai.py:619(forward)\n",
      "       24    0.002    0.000   11.129    0.464 /opt/conda/lib/python3.7/site-packages/pytorch_pretrained_bert/modeling_openai.py:333(forward)\n",
      "       96    0.002    0.000    6.137    0.064 /opt/conda/lib/python3.7/site-packages/pytorch_pretrained_bert/modeling_openai.py:245(forward)\n",
      "       96    6.132    0.064    6.132    0.064 {built-in method addmm}\n",
      "       24    0.001    0.000    4.614    0.192 /opt/conda/lib/python3.7/site-packages/pytorch_pretrained_bert/modeling_openai.py:318(forward)\n",
      "       24    0.001    0.000    4.103    0.171 /opt/conda/lib/python3.7/site-packages/pytorch_pretrained_bert/modeling_openai.py:296(forward)\n",
      "       48    0.000    0.000    2.410    0.050 /opt/conda/lib/python3.7/site-packages/apex/normalization/fused_layer_norm.py:153(forward)\n",
      "       48    0.000    0.000    2.409    0.050 /opt/conda/lib/python3.7/site-packages/torch/nn/functional.py:1949(layer_norm)\n",
      "       48    2.408    0.050    2.408    0.050 {built-in method layer_norm}\n",
      "       24    0.004    0.000    2.103    0.088 /opt/conda/lib/python3.7/site-packages/pytorch_pretrained_bert/modeling_openai.py:270(_attn)\n",
      "       48    2.095    0.044    2.095    0.044 {built-in method matmul}\n",
      "       24    0.006    0.000    0.467    0.019 /opt/conda/lib/python3.7/site-packages/pytorch_pretrained_bert/modeling_openai.py:116(gelu)\n",
      "       24    0.460    0.019    0.460    0.019 {built-in method tanh}\n",
      "        2    0.000    0.000    0.125    0.062 /opt/conda/lib/python3.7/site-packages/pytorch_pretrained_bert/modeling_openai.py:354(forward)\n",
      "        2    0.000    0.000    0.125    0.062 /opt/conda/lib/python3.7/site-packages/torch/nn/modules/linear.py:86(forward)\n",
      "        2    0.000    0.000    0.125    0.062 /opt/conda/lib/python3.7/site-packages/torch/nn/functional.py:1591(linear)\n",
      "        2    0.125    0.062    0.125    0.062 {method 'matmul' of 'torch._C._TensorBase' objects}\n",
      "      298    0.003    0.000    0.003    0.000 {method 'view' of 'torch._C._TensorBase' objects}\n",
      "        2    0.000    0.000    0.002    0.001 /opt/conda/lib/python3.7/site-packages/torch/nn/modules/loss.py:930(forward)\n",
      "        2    0.000    0.000    0.002    0.001 /opt/conda/lib/python3.7/site-packages/torch/nn/functional.py:2265(cross_entropy)\n",
      "        2    0.000    0.000    0.002    0.001 /opt/conda/lib/python3.7/site-packages/torch/nn/functional.py:1511(log_softmax)\n",
      "        2    0.002    0.001    0.002    0.001 {method 'log_softmax' of 'torch._C._TensorBase' objects}\n",
      "       24    0.000    0.000    0.002    0.000 /opt/conda/lib/python3.7/site-packages/pytorch_pretrained_bert/modeling_openai.py:283(merge_heads)\n",
      "       24    0.000    0.000    0.002    0.000 /opt/conda/lib/python3.7/site-packages/torch/nn/modules/activation.py:1034(__init__)\n",
      "\n",
      "\n"
     ]
    },
    {
     "data": {
      "text/plain": [
       "<pstats.Stats at 0x7f02e8acfd90>"
      ]
     },
     "execution_count": 21,
     "metadata": {},
     "output_type": "execute_result"
    }
   ],
   "source": [
    "cProfile.run('smart_pronoun_replace(sentence, token, choices)', 'restats')\n",
    "p = pstats.Stats('restats')\n",
    "p.sort_stats('cumulative').print_stats(30)"
   ]
  },
  {
   "cell_type": "code",
   "execution_count": 22,
   "metadata": {},
   "outputs": [
    {
     "name": "stdout",
     "output_type": "stream",
     "text": [
      "Mon Aug 10 04:38:30 2020    restats\n",
      "\n",
      "         3648 function calls (3486 primitive calls) in 5.334 seconds\n",
      "\n",
      "   Ordered by: cumulative time\n",
      "   List reduced from 113 to 30 due to restriction <30>\n",
      "\n",
      "   ncalls  tottime  percall  cumtime  percall filename:lineno(function)\n",
      "        1    0.000    0.000    5.334    5.334 {built-in method builtins.exec}\n",
      "        1    0.001    0.001    5.334    5.334 <string>:1(<module>)\n",
      "        1    0.000    0.000    5.333    5.333 ../neutral_generation/smart_convert.py:94(score)\n",
      "    163/1    0.002    0.000    5.332    5.332 /opt/conda/lib/python3.7/site-packages/torch/nn/modules/module.py:540(__call__)\n",
      "        1    0.000    0.000    5.332    5.332 /opt/conda/lib/python3.7/site-packages/pytorch_pretrained_bert/modeling_openai.py:717(forward)\n",
      "        1    0.000    0.000    5.266    5.266 /opt/conda/lib/python3.7/site-packages/pytorch_pretrained_bert/modeling_openai.py:619(forward)\n",
      "       12    0.001    0.000    5.266    0.439 /opt/conda/lib/python3.7/site-packages/pytorch_pretrained_bert/modeling_openai.py:333(forward)\n",
      "       48    0.001    0.000    2.762    0.058 /opt/conda/lib/python3.7/site-packages/pytorch_pretrained_bert/modeling_openai.py:245(forward)\n",
      "       48    2.760    0.057    2.760    0.057 {built-in method addmm}\n",
      "       12    0.001    0.000    2.073    0.173 /opt/conda/lib/python3.7/site-packages/pytorch_pretrained_bert/modeling_openai.py:296(forward)\n",
      "       12    0.000    0.000    1.976    0.165 /opt/conda/lib/python3.7/site-packages/pytorch_pretrained_bert/modeling_openai.py:318(forward)\n",
      "       24    0.000    0.000    1.214    0.051 /opt/conda/lib/python3.7/site-packages/apex/normalization/fused_layer_norm.py:153(forward)\n",
      "       24    0.000    0.000    1.214    0.051 /opt/conda/lib/python3.7/site-packages/torch/nn/functional.py:1949(layer_norm)\n",
      "       24    1.214    0.051    1.214    0.051 {built-in method layer_norm}\n",
      "       12    0.002    0.000    1.044    0.087 /opt/conda/lib/python3.7/site-packages/pytorch_pretrained_bert/modeling_openai.py:270(_attn)\n",
      "       24    1.040    0.043    1.040    0.043 {built-in method matmul}\n",
      "       12    0.003    0.000    0.239    0.020 /opt/conda/lib/python3.7/site-packages/pytorch_pretrained_bert/modeling_openai.py:116(gelu)\n",
      "       12    0.235    0.020    0.235    0.020 {built-in method tanh}\n",
      "        1    0.000    0.000    0.064    0.064 /opt/conda/lib/python3.7/site-packages/pytorch_pretrained_bert/modeling_openai.py:354(forward)\n",
      "        1    0.000    0.000    0.064    0.064 /opt/conda/lib/python3.7/site-packages/torch/nn/modules/linear.py:86(forward)\n",
      "        1    0.000    0.000    0.064    0.064 /opt/conda/lib/python3.7/site-packages/torch/nn/functional.py:1591(linear)\n",
      "        1    0.064    0.064    0.064    0.064 {method 'matmul' of 'torch._C._TensorBase' objects}\n",
      "      149    0.002    0.000    0.002    0.000 {method 'view' of 'torch._C._TensorBase' objects}\n",
      "        1    0.001    0.001    0.001    0.001 {built-in method tensor}\n",
      "        1    0.000    0.000    0.001    0.001 /opt/conda/lib/python3.7/site-packages/torch/nn/modules/loss.py:930(forward)\n",
      "       36    0.000    0.000    0.001    0.000 /opt/conda/lib/python3.7/site-packages/torch/nn/modules/dropout.py:53(forward)\n",
      "        1    0.000    0.000    0.001    0.001 /opt/conda/lib/python3.7/site-packages/torch/nn/functional.py:2265(cross_entropy)\n",
      "       12    0.000    0.000    0.001    0.000 /opt/conda/lib/python3.7/site-packages/torch/nn/modules/activation.py:1034(__init__)\n",
      "       12    0.000    0.000    0.001    0.000 /opt/conda/lib/python3.7/site-packages/pytorch_pretrained_bert/modeling_openai.py:283(merge_heads)\n",
      "       36    0.000    0.000    0.001    0.000 /opt/conda/lib/python3.7/site-packages/pytorch_pretrained_bert/modeling_openai.py:288(split_heads)\n",
      "\n",
      "\n"
     ]
    },
    {
     "data": {
      "text/plain": [
       "<pstats.Stats at 0x7f02e9544bd0>"
      ]
     },
     "execution_count": 22,
     "metadata": {},
     "output_type": "execute_result"
    }
   ],
   "source": [
    "cProfile.run('score(sentence)', 'restats')\n",
    "p = pstats.Stats('restats')\n",
    "p.sort_stats('cumulative').print_stats(30)"
   ]
  },
  {
   "cell_type": "code",
   "execution_count": null,
   "metadata": {},
   "outputs": [],
   "source": []
  },
  {
   "cell_type": "code",
   "execution_count": 8,
   "metadata": {},
   "outputs": [],
   "source": [
    "sentence = \"He is going to the mall\""
   ]
  },
  {
   "cell_type": "code",
   "execution_count": 9,
   "metadata": {},
   "outputs": [
    {
     "name": "stdout",
     "output_type": "stream",
     "text": [
      "Mon Aug 10 04:17:02 2020    restats\n",
      "\n",
      "         3227 function calls (3131 primitive calls) in 0.014 seconds\n",
      "\n",
      "   Ordered by: cumulative time\n",
      "   List reduced from 226 to 30 due to restriction <30>\n",
      "\n",
      "   ncalls  tottime  percall  cumtime  percall filename:lineno(function)\n",
      "        1    0.000    0.000    0.014    0.014 {built-in method builtins.exec}\n",
      "        1    0.000    0.000    0.014    0.014 <string>:1(<module>)\n",
      "        1    0.000    0.000    0.014    0.014 ../neutral_generation/smart_convert.py:25(convert)\n",
      "        1    0.001    0.001    0.014    0.014 /opt/conda/lib/python3.7/site-packages/spacy/language.py:424(__call__)\n",
      "     25/4    0.000    0.000    0.012    0.003 /opt/conda/lib/python3.7/site-packages/thinc/neural/_classes/model.py:161(__call__)\n",
      "        4    0.000    0.000    0.010    0.002 /opt/conda/lib/python3.7/site-packages/thinc/neural/_classes/model.py:130(predict)\n",
      "     15/3    0.000    0.000    0.009    0.003 /opt/conda/lib/python3.7/site-packages/thinc/neural/_classes/feed_forward.py:43(begin_update)\n",
      "        2    0.000    0.000    0.007    0.004 /opt/conda/lib/python3.7/site-packages/thinc/api.py:293(begin_update)\n",
      "       11    0.000    0.000    0.006    0.001 /opt/conda/lib/python3.7/site-packages/thinc/neural/_classes/layernorm.py:60(begin_update)\n",
      "        8    0.000    0.000    0.005    0.001 /opt/conda/lib/python3.7/site-packages/thinc/neural/_classes/resnet.py:28(begin_update)\n",
      "       18    0.004    0.000    0.004    0.000 ops.pyx:512(gemm)\n",
      "       11    0.000    0.000    0.004    0.000 /opt/conda/lib/python3.7/site-packages/thinc/neural/_classes/maxout.py:72(begin_update)\n",
      "        1    0.000    0.000    0.004    0.004 pipes.pyx:397(__call__)\n",
      "        1    0.000    0.000    0.004    0.004 pipes.pyx:409(predict)\n",
      "        2    0.000    0.000    0.004    0.002 /opt/conda/lib/python3.7/site-packages/thinc/api.py:308(predict)\n",
      "        3    0.000    0.000    0.004    0.001 /opt/conda/lib/python3.7/site-packages/thinc/api.py:370(uniqued_fwd)\n",
      "      6/1    0.000    0.000    0.003    0.003 /opt/conda/lib/python3.7/site-packages/thinc/neural/_classes/feed_forward.py:38(predict)\n",
      "        4    0.000    0.000    0.002    0.000 /opt/conda/lib/python3.7/site-packages/thinc/neural/_classes/resnet.py:17(predict)\n",
      "       15    0.000    0.000    0.002    0.000 /opt/conda/lib/python3.7/site-packages/thinc/neural/_classes/layernorm.py:104(_get_moments)\n",
      "        4    0.000    0.000    0.002    0.000 /opt/conda/lib/python3.7/site-packages/thinc/neural/_classes/layernorm.py:50(predict)\n",
      "      9/3    0.000    0.000    0.001    0.000 /opt/conda/lib/python3.7/site-packages/thinc/api.py:161(begin_update)\n",
      "        4    0.000    0.000    0.001    0.000 /opt/conda/lib/python3.7/site-packages/thinc/neural/_classes/maxout.py:64(predict)\n",
      "      9/3    0.000    0.000    0.001    0.000 /opt/conda/lib/python3.7/site-packages/thinc/api.py:163(<listcomp>)\n",
      "     18/6    0.000    0.000    0.001    0.000 /opt/conda/lib/python3.7/site-packages/thinc/api.py:255(wrap)\n",
      "       12    0.000    0.000    0.001    0.000 /opt/conda/lib/python3.7/site-packages/thinc/neural/_classes/hash_embed.py:56(begin_update)\n",
      "       15    0.000    0.000    0.001    0.000 {method 'var' of 'numpy.ndarray' objects}\n",
      "       15    0.001    0.000    0.001    0.000 /opt/conda/lib/python3.7/site-packages/numpy/core/_methods.py:167(_var)\n",
      "       86    0.000    0.000    0.001    0.000 /opt/conda/lib/python3.7/site-packages/thinc/describe.py:36(__get__)\n",
      "    55/21    0.000    0.000    0.001    0.000 {built-in method numpy.core._multiarray_umath.implement_array_function}\n",
      "        2    0.000    0.000    0.001    0.000 /opt/conda/lib/python3.7/site-packages/spacy/_ml.py:178(begin_update)\n",
      "\n",
      "\n"
     ]
    },
    {
     "data": {
      "text/plain": [
       "<pstats.Stats at 0x7f0300eaf7d0>"
      ]
     },
     "execution_count": 9,
     "metadata": {},
     "output_type": "execute_result"
    }
   ],
   "source": [
    "cProfile.run('convert(sentence)', 'restats')\n",
    "p = pstats.Stats('restats')\n",
    "p.sort_stats('cumulative').print_stats(30)"
   ]
  },
  {
   "cell_type": "code",
   "execution_count": null,
   "metadata": {},
   "outputs": [],
   "source": []
  }
 ],
 "metadata": {
  "environment": {
   "name": "tf2-2-2-gpu.2-2.m49",
   "type": "gcloud",
   "uri": "gcr.io/deeplearning-platform-release/tf2-2-2-gpu.2-2:m49"
  },
  "kernelspec": {
   "display_name": "Python 3",
   "language": "python",
   "name": "python3"
  },
  "language_info": {
   "codemirror_mode": {
    "name": "ipython",
    "version": 3
   },
   "file_extension": ".py",
   "mimetype": "text/x-python",
   "name": "python",
   "nbconvert_exporter": "python",
   "pygments_lexer": "ipython3",
   "version": "3.7.6"
  }
 },
 "nbformat": 4,
 "nbformat_minor": 4
}
