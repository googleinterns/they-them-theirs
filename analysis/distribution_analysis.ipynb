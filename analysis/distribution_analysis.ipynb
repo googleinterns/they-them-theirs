{
 "cells": [
  {
   "cell_type": "code",
   "execution_count": 20,
   "metadata": {},
   "outputs": [],
   "source": [
    "from collections import Counter, defaultdict\n",
    "import re\n",
    "import spacy\n",
    "import matplotlib.pyplot as plt"
   ]
  },
  {
   "cell_type": "code",
   "execution_count": 2,
   "metadata": {},
   "outputs": [],
   "source": [
    "nlp = spacy.load(\"en_core_web_sm\")"
   ]
  },
  {
   "cell_type": "code",
   "execution_count": 3,
   "metadata": {},
   "outputs": [
    {
     "name": "stdout",
     "output_type": "stream",
     "text": [
      "CPU times: user 828 µs, sys: 1.09 ms, total: 1.92 ms\n",
      "Wall time: 1.44 ms\n"
     ]
    }
   ],
   "source": [
    "%%time\n",
    "import sys\n",
    "sys.path.append('../google/tony-sun-intern-project/neutral_generation/')\n",
    "from make_gender_neutral import is_gendered"
   ]
  },
  {
   "cell_type": "code",
   "execution_count": null,
   "metadata": {},
   "outputs": [],
   "source": []
  },
  {
   "cell_type": "code",
   "execution_count": 4,
   "metadata": {},
   "outputs": [],
   "source": [
    "def get_source_target(eval_set):\n",
    "    with open(f'/Users/tonysun/google/tony-sun-intern-project/evaluation/{eval_set}/source.txt', 'r') as f:\n",
    "        source = f.readlines()\n",
    "    \n",
    "    with open(f'/Users/tonysun/google/tony-sun-intern-project/evaluation/{eval_set}/target.txt', 'r') as f:\n",
    "        target = f.readlines()\n",
    "        \n",
    "    return source, target"
   ]
  },
  {
   "cell_type": "code",
   "execution_count": 5,
   "metadata": {},
   "outputs": [],
   "source": [
    "source, target = get_source_target('gendered_test_set')"
   ]
  },
  {
   "cell_type": "code",
   "execution_count": 6,
   "metadata": {},
   "outputs": [
    {
     "data": {
      "text/plain": [
       "(500, 500)"
      ]
     },
     "execution_count": 6,
     "metadata": {},
     "output_type": "execute_result"
    }
   ],
   "source": [
    "len(source), len(target)"
   ]
  },
  {
   "cell_type": "code",
   "execution_count": 7,
   "metadata": {},
   "outputs": [],
   "source": [
    "token_counter = Counter()\n",
    "\n",
    "for sent in source[:]:\n",
    "    tokens = sent.lower().split(' ')\n",
    "    for token in tokens:\n",
    "        token_counter[token] += 1"
   ]
  },
  {
   "cell_type": "code",
   "execution_count": 8,
   "metadata": {},
   "outputs": [
    {
     "data": {
      "text/plain": [
       "2522"
      ]
     },
     "execution_count": 8,
     "metadata": {},
     "output_type": "execute_result"
    }
   ],
   "source": [
    "# num of unique tokens\n",
    "len(token_counter)"
   ]
  },
  {
   "cell_type": "code",
   "execution_count": 9,
   "metadata": {},
   "outputs": [
    {
     "name": "stdout",
     "output_type": "stream",
     "text": [
      "6427\n",
      "12.854\n"
     ]
    }
   ],
   "source": [
    "total_tokens = 0\n",
    "for token in token_counter:\n",
    "    total_tokens += token_counter[token]\n",
    "print(total_tokens)\n",
    "print(total_tokens / 500)"
   ]
  },
  {
   "cell_type": "code",
   "execution_count": 10,
   "metadata": {},
   "outputs": [
    {
     "data": {
      "text/plain": [
       "[('the', 274),\n",
       " ('a', 180),\n",
       " ('to', 158),\n",
       " ('he', 146),\n",
       " ('she', 136),\n",
       " ('and', 131),\n",
       " ('her', 122),\n",
       " ('in', 97),\n",
       " ('his', 95),\n",
       " ('was', 93),\n",
       " ('i', 88),\n",
       " ('of', 82),\n",
       " ('for', 63),\n",
       " ('is', 57),\n",
       " ('on', 50),\n",
       " ('that', 47),\n",
       " ('my', 46),\n",
       " ('with', 46),\n",
       " ('has', 38),\n",
       " ('you', 38)]"
      ]
     },
     "execution_count": 10,
     "metadata": {},
     "output_type": "execute_result"
    }
   ],
   "source": [
    "token_counter.most_common(20)"
   ]
  },
  {
   "cell_type": "code",
   "execution_count": null,
   "metadata": {},
   "outputs": [],
   "source": []
  },
  {
   "cell_type": "code",
   "execution_count": null,
   "metadata": {},
   "outputs": [],
   "source": []
  },
  {
   "cell_type": "code",
   "execution_count": 11,
   "metadata": {},
   "outputs": [],
   "source": [
    "def clean_str(word):\n",
    "    pattern = re.compile(\"[^a-zA-Z']+\", re.UNICODE)\n",
    "    word = pattern.sub('', word)\n",
    "    return word.lower()"
   ]
  },
  {
   "cell_type": "code",
   "execution_count": null,
   "metadata": {},
   "outputs": [],
   "source": []
  },
  {
   "cell_type": "code",
   "execution_count": 12,
   "metadata": {},
   "outputs": [
    {
     "name": "stdout",
     "output_type": "stream",
     "text": [
      "CPU times: user 6 ms, sys: 297 µs, total: 6.3 ms\n",
      "Wall time: 6.04 ms\n"
     ]
    }
   ],
   "source": [
    "%%time\n",
    "change_type = Counter()\n",
    "total_changes = 0\n",
    "\n",
    "for source_sent, target_sent in zip(source, target):\n",
    "    source_sent = source_sent.split(' ')\n",
    "    target_sent = target_sent.split(' ')\n",
    "    \n",
    "    if len(source_sent) != len(target_sent):\n",
    "        continue\n",
    "        \n",
    "    for i in range(len(source_sent)):\n",
    "        if source_sent[i] != target_sent[i]:\n",
    "            source_word = clean_str(source_sent[i])\n",
    "            target_word = clean_str(target_sent[i])\n",
    "\n",
    "            change_type[(source_word, target_word)] += 1\n",
    "            \n",
    "            total_changes += 1"
   ]
  },
  {
   "cell_type": "code",
   "execution_count": 13,
   "metadata": {},
   "outputs": [
    {
     "data": {
      "text/plain": [
       "794"
      ]
     },
     "execution_count": 13,
     "metadata": {},
     "output_type": "execute_result"
    }
   ],
   "source": [
    "total_changes"
   ]
  },
  {
   "cell_type": "code",
   "execution_count": 18,
   "metadata": {
    "scrolled": false
   },
   "outputs": [
    {
     "name": "stdout",
     "output_type": "stream",
     "text": [
      "69\n"
     ]
    },
    {
     "data": {
      "text/plain": [
       "[(('he', 'they'), 146),\n",
       " (('she', 'they'), 137),\n",
       " (('his', 'their'), 95),\n",
       " (('her', 'their'), 83),\n",
       " (('her', 'them'), 55),\n",
       " (('him', 'them'), 48),\n",
       " (('was', 'were'), 42),\n",
       " (('is', 'are'), 23),\n",
       " ((\"he's\", \"they're\"), 18),\n",
       " (('has', 'have'), 17),\n",
       " ((\"she's\", \"they're\"), 15),\n",
       " (('herself', 'themself'), 9),\n",
       " (('does', 'do'), 8),\n",
       " (('says', 'say'), 8),\n",
       " (('goes', 'go'), 6),\n",
       " ((\"she'll\", \"they'll\"), 4),\n",
       " (('wants', 'want'), 4),\n",
       " (('gets', 'get'), 4),\n",
       " (('tells', 'tell'), 4),\n",
       " (('makes', 'make'), 3)]"
      ]
     },
     "execution_count": 18,
     "metadata": {},
     "output_type": "execute_result"
    }
   ],
   "source": [
    "print(len(change_type))\n",
    "change_type.most_common(20)"
   ]
  },
  {
   "cell_type": "code",
   "execution_count": 15,
   "metadata": {},
   "outputs": [],
   "source": [
    "change_type_percent = Counter()\n",
    "for change in change_type:\n",
    "    change_type_percent[change] = '{:.2f}'.format(change_type[change] / total_changes)"
   ]
  },
  {
   "cell_type": "code",
   "execution_count": 16,
   "metadata": {
    "scrolled": true
   },
   "outputs": [
    {
     "data": {
      "text/plain": [
       "[(('he', 'they'), '0.18'),\n",
       " (('she', 'they'), '0.17'),\n",
       " (('his', 'their'), '0.12'),\n",
       " (('her', 'their'), '0.10'),\n",
       " (('her', 'them'), '0.07'),\n",
       " (('him', 'them'), '0.06'),\n",
       " (('was', 'were'), '0.05'),\n",
       " (('is', 'are'), '0.03'),\n",
       " (('has', 'have'), '0.02'),\n",
       " ((\"she's\", \"they're\"), '0.02'),\n",
       " ((\"he's\", \"they're\"), '0.02'),\n",
       " ((\"she'll\", \"they'll\"), '0.01'),\n",
       " (('does', 'do'), '0.01'),\n",
       " (('herself', 'themself'), '0.01'),\n",
       " (('wants', 'want'), '0.01'),\n",
       " (('says', 'say'), '0.01'),\n",
       " (('gets', 'get'), '0.01'),\n",
       " (('goes', 'go'), '0.01'),\n",
       " (('tells', 'tell'), '0.01'),\n",
       " (('begins', 'begin'), '0.00')]"
      ]
     },
     "execution_count": 16,
     "metadata": {},
     "output_type": "execute_result"
    }
   ],
   "source": [
    "change_type_percent.most_common(20)"
   ]
  },
  {
   "cell_type": "code",
   "execution_count": null,
   "metadata": {},
   "outputs": [],
   "source": []
  },
  {
   "cell_type": "code",
   "execution_count": null,
   "metadata": {},
   "outputs": [],
   "source": []
  },
  {
   "cell_type": "code",
   "execution_count": null,
   "metadata": {},
   "outputs": [],
   "source": []
  },
  {
   "cell_type": "code",
   "execution_count": null,
   "metadata": {},
   "outputs": [],
   "source": []
  },
  {
   "cell_type": "code",
   "execution_count": 52,
   "metadata": {},
   "outputs": [],
   "source": [
    "def my_autopct(pct):\n",
    "    return ('%.2f%%' % pct) if pct > 5 else ''"
   ]
  },
  {
   "cell_type": "code",
   "execution_count": 42,
   "metadata": {},
   "outputs": [],
   "source": [
    "labels = [change[0] for change in change_type.most_common(20)]\n",
    "sizes = [change[1] for change in change_type.most_common(20)]"
   ]
  },
  {
   "cell_type": "code",
   "execution_count": 53,
   "metadata": {},
   "outputs": [
    {
     "data": {
      "image/png": "[encoded data removed]",
      "text/plain": [
       "<Figure size 432x288 with 1 Axes>"
      ]
     },
     "metadata": {},
     "output_type": "display_data"
    }
   ],
   "source": [
    "plt.pie(sizes, labels=labels,\n",
    "autopct=my_autopct, shadow=True, startangle=140)\n",
    "\n",
    "plt.axis('equal')\n",
    "plt.show()"
   ]
  }
 ],
 "metadata": {
  "kernelspec": {
   "display_name": "3.7.7",
   "language": "python",
   "name": "3.7.7"
  },
  "language_info": {
   "codemirror_mode": {
    "name": "ipython",
    "version": 3
   },
   "file_extension": ".py",
   "mimetype": "text/x-python",
   "name": "python",
   "nbconvert_exporter": "python",
   "pygments_lexer": "ipython3",
   "version": "3.7.7"
  }
 },
 "nbformat": 4,
 "nbformat_minor": 4
}
